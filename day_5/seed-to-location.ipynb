{
 "cells": [
  {
   "cell_type": "code",
   "execution_count": 3,
   "metadata": {},
   "outputs": [],
   "source": [
    "inputs = open(\"input.txt\", \"r\")\n",
    "input_lines = inputs.readlines()\n",
    "inputs.close()"
   ]
  },
  {
   "cell_type": "code",
   "execution_count": 4,
   "metadata": {},
   "outputs": [
    {
     "data": {
      "text/plain": [
       "['629551616',\n",
       " '310303897',\n",
       " '265998072',\n",
       " '58091853',\n",
       " '3217788227',\n",
       " '563748665',\n",
       " '2286940694',\n",
       " '820803307',\n",
       " '1966060902',\n",
       " '108698829',\n",
       " '190045874',\n",
       " '3206262',\n",
       " '4045963015',\n",
       " '223661537',\n",
       " '1544688274',\n",
       " '293696584',\n",
       " '1038807941',\n",
       " '31756878',\n",
       " '1224711373',\n",
       " '133647424']"
      ]
     },
     "execution_count": 4,
     "metadata": {},
     "output_type": "execute_result"
    }
   ],
   "source": [
    "seeds = input_lines[0].split()[1:]\n",
    "seeds"
   ]
  },
  {
   "cell_type": "code",
   "execution_count": 68,
   "metadata": {},
   "outputs": [],
   "source": [
    "mappings = []\n",
    "from itertools import starmap\n",
    "\n",
    "def get_mapping_for_lines(start_line: int, finish_line: int):\n",
    "    mapping = []\n",
    "    print(f\"{start_line =}, {finish_line =}\")\n",
    "    for entry in map(str.split, input_lines[start_line:finish_line]):\n",
    "        destination_range_start = int(entry[0])\n",
    "        source_range_start = int(entry[1])\n",
    "        range_length = int(entry[2])\n",
    "        source_range = range(source_range_start, source_range_start + range_length)\n",
    "        mapping.append({\"source_range\": source_range, \"destination_range_start\": destination_range_start})\n",
    "    \n",
    "    return mapping"
   ]
  },
  {
   "cell_type": "code",
   "execution_count": 71,
   "metadata": {},
   "outputs": [
    {
     "name": "stdout",
     "output_type": "stream",
     "text": [
      "<itertools.starmap object at 0x1069fb7c0>\n"
     ]
    }
   ],
   "source": [
    "mappings = starmap(get_mapping_for_lines, \n",
    "    ((3, 14),\n",
    "    (17, 45),\n",
    "    (48, 75),\n",
    "    (78, 96),\n",
    "    (99, 134),\n",
    "    (137, 160),\n",
    "    (163, 182)))\n",
    "print(mappings)"
   ]
  },
  {
   "cell_type": "code",
   "execution_count": 72,
   "metadata": {},
   "outputs": [
    {
     "ename": "TypeError",
     "evalue": "'list' object is not callable",
     "output_type": "error",
     "traceback": [
      "\u001b[0;31m---------------------------------------------------------------------------\u001b[0m",
      "\u001b[0;31mTypeError\u001b[0m                                 Traceback (most recent call last)",
      "\u001b[1;32m/Users/daniel/git/adventofcode2023/day_5/seed-to-location.ipynb Cell 5\u001b[0m line \u001b[0;36m1\n\u001b[0;32m----> <a href='vscode-notebook-cell:/Users/daniel/git/adventofcode2023/day_5/seed-to-location.ipynb#W6sZmlsZQ%3D%3D?line=0'>1</a>\u001b[0m \u001b[39mfor\u001b[39;49;00m \u001b[39mmap\u001b[39;49m \u001b[39min\u001b[39;49;00m mappings:\n\u001b[1;32m      <a href='vscode-notebook-cell:/Users/daniel/git/adventofcode2023/day_5/seed-to-location.ipynb#W6sZmlsZQ%3D%3D?line=1'>2</a>\u001b[0m     \u001b[39mprint\u001b[39;49m(\u001b[39mmap\u001b[39;49m)\n",
      "\u001b[1;32m/Users/daniel/git/adventofcode2023/day_5/seed-to-location.ipynb Cell 5\u001b[0m line \u001b[0;36m6\n\u001b[1;32m      <a href='vscode-notebook-cell:/Users/daniel/git/adventofcode2023/day_5/seed-to-location.ipynb#W6sZmlsZQ%3D%3D?line=3'>4</a>\u001b[0m \u001b[39mdef\u001b[39;00m \u001b[39mget_mapping_for_lines\u001b[39m(start_line: \u001b[39mint\u001b[39m, finish_line: \u001b[39mint\u001b[39m):\n\u001b[1;32m      <a href='vscode-notebook-cell:/Users/daniel/git/adventofcode2023/day_5/seed-to-location.ipynb#W6sZmlsZQ%3D%3D?line=4'>5</a>\u001b[0m     mapping \u001b[39m=\u001b[39m []\n\u001b[0;32m----> <a href='vscode-notebook-cell:/Users/daniel/git/adventofcode2023/day_5/seed-to-location.ipynb#W6sZmlsZQ%3D%3D?line=5'>6</a>\u001b[0m     \u001b[39mfor\u001b[39;00m entry \u001b[39min\u001b[39;00m \u001b[39mmap\u001b[39;49m(\u001b[39mstr\u001b[39;49m\u001b[39m.\u001b[39;49msplit, input_lines[start_line:finish_line]):\n\u001b[1;32m      <a href='vscode-notebook-cell:/Users/daniel/git/adventofcode2023/day_5/seed-to-location.ipynb#W6sZmlsZQ%3D%3D?line=6'>7</a>\u001b[0m         destination_range_start \u001b[39m=\u001b[39m \u001b[39mint\u001b[39m(entry[\u001b[39m0\u001b[39m])\n\u001b[1;32m      <a href='vscode-notebook-cell:/Users/daniel/git/adventofcode2023/day_5/seed-to-location.ipynb#W6sZmlsZQ%3D%3D?line=7'>8</a>\u001b[0m         source_range_start \u001b[39m=\u001b[39m \u001b[39mint\u001b[39m(entry[\u001b[39m1\u001b[39m])\n",
      "\u001b[0;31mTypeError\u001b[0m: 'list' object is not callable"
     ]
    }
   ],
   "source": [
    "for map in mappings:\n",
    "    print(map)"
   ]
  },
  {
   "cell_type": "code",
   "execution_count": null,
   "metadata": {},
   "outputs": [],
   "source": []
  }
 ],
 "metadata": {
  "kernelspec": {
   "display_name": "Python 3",
   "language": "python",
   "name": "python3"
  },
  "language_info": {
   "codemirror_mode": {
    "name": "ipython",
    "version": 3
   },
   "file_extension": ".py",
   "mimetype": "text/x-python",
   "name": "python",
   "nbconvert_exporter": "python",
   "pygments_lexer": "ipython3",
   "version": "3.11.6"
  }
 },
 "nbformat": 4,
 "nbformat_minor": 2
}
