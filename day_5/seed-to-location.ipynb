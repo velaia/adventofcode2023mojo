{
 "cells": [
  {
   "cell_type": "code",
   "execution_count": 19,
   "metadata": {},
   "outputs": [],
   "source": [
    "inputs = open(\"input.txt\", \"r\")\n",
    "input_lines = inputs.readlines()\n",
    "inputs.close()"
   ]
  },
  {
   "cell_type": "code",
   "execution_count": 20,
   "metadata": {},
   "outputs": [
    {
     "data": {
      "text/plain": [
       "['629551616',\n",
       " '310303897',\n",
       " '265998072',\n",
       " '58091853',\n",
       " '3217788227',\n",
       " '563748665',\n",
       " '2286940694',\n",
       " '820803307',\n",
       " '1966060902',\n",
       " '108698829',\n",
       " '190045874',\n",
       " '3206262',\n",
       " '4045963015',\n",
       " '223661537',\n",
       " '1544688274',\n",
       " '293696584',\n",
       " '1038807941',\n",
       " '31756878',\n",
       " '1224711373',\n",
       " '133647424']"
      ]
     },
     "execution_count": 20,
     "metadata": {},
     "output_type": "execute_result"
    }
   ],
   "source": [
    "seeds = input_lines[0].split()[1:]\n",
    "seeds"
   ]
  },
  {
   "cell_type": "code",
   "execution_count": 21,
   "metadata": {},
   "outputs": [],
   "source": [
    "mappings = []\n",
    "from itertools import starmap\n",
    "\n",
    "def get_mapping_for_lines(start_line: int, finish_line: int):\n",
    "    mapping = []\n",
    "    # print(f\"{start_line=}, {finish_line=}\")\n",
    "    for entry in starmap(str.split, [(line, ) for line in input_lines[start_line:finish_line]]):\n",
    "        destination_range_start = int(entry[0])\n",
    "        source_range_start = int(entry[1])\n",
    "        range_length = int(entry[2])\n",
    "        source_range = range(source_range_start, source_range_start + range_length)\n",
    "        mapping.append({\"source_range\": source_range, \"destination_range_start\": destination_range_start})\n",
    "    \n",
    "    return mapping"
   ]
  },
  {
   "cell_type": "code",
   "execution_count": 22,
   "metadata": {},
   "outputs": [
    {
     "name": "stdout",
     "output_type": "stream",
     "text": [
      "['test', 'with', 'text']\n",
      "['some', 'more', 'text']\n"
     ]
    }
   ],
   "source": [
    "for res in starmap(str.split, [(\"test with text\", ), (\"some more text\", )]):\n",
    "    print(res)"
   ]
  },
  {
   "cell_type": "markdown",
   "metadata": {},
   "source": []
  },
  {
   "cell_type": "code",
   "execution_count": 42,
   "metadata": {},
   "outputs": [
    {
     "name": "stdout",
     "output_type": "stream",
     "text": [
      "<itertools.starmap object at 0x1041aeb90>\n"
     ]
    }
   ],
   "source": [
    "mappings = starmap(get_mapping_for_lines, \n",
    "    ((3, 14),\n",
    "    (17, 45),\n",
    "    (48, 75),\n",
    "    (78, 96),\n",
    "    (99, 134),\n",
    "    (137, 160),\n",
    "    (163, 182)))\n"
   ]
  },
  {
   "cell_type": "code",
   "execution_count": 43,
   "metadata": {},
   "outputs": [],
   "source": [
    "start_val = seeds[0]"
   ]
  },
  {
   "cell_type": "code",
   "execution_count": null,
   "metadata": {},
   "outputs": [
    {
     "ename": "KeyboardInterrupt",
     "evalue": "",
     "output_type": "error",
     "traceback": [
      "\u001b[0;31m---------------------------------------------------------------------------\u001b[0m",
      "\u001b[0;31mKeyboardInterrupt\u001b[0m                         Traceback (most recent call last)",
      "\u001b[1;32m/Users/daniel/git/adventofcode2023/day_5/seed-to-location.ipynb Cell 8\u001b[0m line \u001b[0;36m4\n\u001b[1;32m      <a href='vscode-notebook-cell:/Users/daniel/git/adventofcode2023/day_5/seed-to-location.ipynb#X13sZmlsZQ%3D%3D?line=1'>2</a>\u001b[0m \u001b[39mfor\u001b[39;00m mapping \u001b[39min\u001b[39;00m mappings:\n\u001b[1;32m      <a href='vscode-notebook-cell:/Users/daniel/git/adventofcode2023/day_5/seed-to-location.ipynb#X13sZmlsZQ%3D%3D?line=2'>3</a>\u001b[0m     \u001b[39mfor\u001b[39;00m mapping_range \u001b[39min\u001b[39;00m mapping:\n\u001b[0;32m----> <a href='vscode-notebook-cell:/Users/daniel/git/adventofcode2023/day_5/seed-to-location.ipynb#X13sZmlsZQ%3D%3D?line=3'>4</a>\u001b[0m         in_range \u001b[39m=\u001b[39m seed \u001b[39min\u001b[39;00m mapping_range[\u001b[39m'\u001b[39m\u001b[39msource_range\u001b[39m\u001b[39m'\u001b[39m]\n",
      "\u001b[0;31mKeyboardInterrupt\u001b[0m: "
     ]
    },
    {
     "ename": "KeyboardInterrupt",
     "evalue": "",
     "output_type": "error",
     "traceback": [
      "\u001b[0;31m---------------------------------------------------------------------------\u001b[0m",
      "\u001b[0;31mKeyboardInterrupt\u001b[0m                         Traceback (most recent call last)",
      "\u001b[1;32m/Users/daniel/git/adventofcode2023/day_5/seed-to-location.ipynb Cell 8\u001b[0m line \u001b[0;36m4\n\u001b[1;32m      <a href='vscode-notebook-cell:/Users/daniel/git/adventofcode2023/day_5/seed-to-location.ipynb#X13sZmlsZQ%3D%3D?line=1'>2</a>\u001b[0m \u001b[39mfor\u001b[39;00m mapping \u001b[39min\u001b[39;00m mappings:\n\u001b[1;32m      <a href='vscode-notebook-cell:/Users/daniel/git/adventofcode2023/day_5/seed-to-location.ipynb#X13sZmlsZQ%3D%3D?line=2'>3</a>\u001b[0m     \u001b[39mfor\u001b[39;00m mapping_range \u001b[39min\u001b[39;00m mapping:\n\u001b[0;32m----> <a href='vscode-notebook-cell:/Users/daniel/git/adventofcode2023/day_5/seed-to-location.ipynb#X13sZmlsZQ%3D%3D?line=3'>4</a>\u001b[0m         in_range \u001b[39m=\u001b[39m (seed \u001b[39min\u001b[39;00m mapping_range[\u001b[39m'\u001b[39m\u001b[39msource_range\u001b[39m\u001b[39m'\u001b[39m])\n",
      "\u001b[0;31mKeyboardInterrupt\u001b[0m: "
     ]
    }
   ],
   "source": [
    "for seed in seeds:\n",
    "    for mapping in mappings:\n",
    "        for mapping_range in mapping:\n",
    "            in_range = (seed in mapping_range['source_range'])"
   ]
  },
  {
   "cell_type": "code",
   "execution_count": null,
   "metadata": {},
   "outputs": [],
   "source": []
  }
 ],
 "metadata": {
  "kernelspec": {
   "display_name": "Python 3",
   "language": "python",
   "name": "python3"
  },
  "language_info": {
   "codemirror_mode": {
    "name": "ipython",
    "version": 3
   },
   "file_extension": ".py",
   "mimetype": "text/x-python",
   "name": "python",
   "nbconvert_exporter": "python",
   "pygments_lexer": "ipython3",
   "version": "3.11.6"
  }
 },
 "nbformat": 4,
 "nbformat_minor": 2
}
